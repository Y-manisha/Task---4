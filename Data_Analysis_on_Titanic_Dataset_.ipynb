{
  "nbformat": 4,
  "nbformat_minor": 0,
  "metadata": {
    "colab": {
      "provenance": [],
      "authorship_tag": "ABX9TyNATzzTqBIvNW9O5ufNV0Xd",
      "include_colab_link": true
    },
    "kernelspec": {
      "name": "python3",
      "display_name": "Python 3"
    },
    "language_info": {
      "name": "python"
    }
  },
  "cells": [
    {
      "cell_type": "markdown",
      "metadata": {
        "id": "view-in-github",
        "colab_type": "text"
      },
      "source": [
        "<a href=\"https://colab.research.google.com/github/Y-manisha/Task---4/blob/main/Data_Analysis_on_Titanic_Dataset_.ipynb\" target=\"_parent\"><img src=\"https://colab.research.google.com/assets/colab-badge.svg\" alt=\"Open In Colab\"/></a>"
      ]
    },
    {
      "cell_type": "code",
      "execution_count": 3,
      "metadata": {
        "colab": {
          "base_uri": "https://localhost:8080/"
        },
        "id": "eh_PeRkRMwFf",
        "outputId": "77453fc8-9fe2-4c01-92ea-0266ce621680"
      },
      "outputs": [
        {
          "output_type": "stream",
          "name": "stdout",
          "text": [
            "Requirement already satisfied: pyspark in /usr/local/lib/python3.11/dist-packages (3.5.1)\n",
            "Requirement already satisfied: py4j==0.10.9.7 in /usr/local/lib/python3.11/dist-packages (from pyspark) (0.10.9.7)\n"
          ]
        }
      ],
      "source": [
        "! pip install pyspark"
      ]
    },
    {
      "cell_type": "code",
      "source": [
        "# Import necessary libraries\n",
        "from pyspark.sql import SparkSession\n",
        "from pyspark.sql.functions import avg, count, col, when\n",
        "\n",
        "# Initialize Spark session\n",
        "spark = SparkSession.builder \\\n",
        "    .appName(\"Titanic Analysis\") \\\n",
        "    .getOrCreate()"
      ],
      "metadata": {
        "id": "2lE9dJuWM2Gy"
      },
      "execution_count": 16,
      "outputs": []
    },
    {
      "cell_type": "code",
      "source": [
        "# Load Titanic dataset\n",
        "titanic_df = spark.read.csv(\"Titanic-Dataset.csv\", header=True, inferSchema=True)\n",
        "titanic_df.head(5)"
      ],
      "metadata": {
        "colab": {
          "base_uri": "https://localhost:8080/"
        },
        "id": "i2PL24cHNGT2",
        "outputId": "ea754c83-50bd-4eeb-ba65-cd0177a2da86"
      },
      "execution_count": 17,
      "outputs": [
        {
          "output_type": "execute_result",
          "data": {
            "text/plain": [
              "[Row(PassengerId=1, Survived=0, Pclass=3, Name='Braund, Mr. Owen Harris', Sex='male', Age=22.0, SibSp=1, Parch=0, Ticket='A/5 21171', Fare=7.25, Cabin=None, Embarked='S'),\n",
              " Row(PassengerId=2, Survived=1, Pclass=1, Name='Cumings, Mrs. John Bradley (Florence Briggs Thayer)', Sex='female', Age=38.0, SibSp=1, Parch=0, Ticket='PC 17599', Fare=71.2833, Cabin='C85', Embarked='C'),\n",
              " Row(PassengerId=3, Survived=1, Pclass=3, Name='Heikkinen, Miss. Laina', Sex='female', Age=26.0, SibSp=0, Parch=0, Ticket='STON/O2. 3101282', Fare=7.925, Cabin=None, Embarked='S'),\n",
              " Row(PassengerId=4, Survived=1, Pclass=1, Name='Futrelle, Mrs. Jacques Heath (Lily May Peel)', Sex='female', Age=35.0, SibSp=1, Parch=0, Ticket='113803', Fare=53.1, Cabin='C123', Embarked='S'),\n",
              " Row(PassengerId=5, Survived=0, Pclass=3, Name='Allen, Mr. William Henry', Sex='male', Age=35.0, SibSp=0, Parch=0, Ticket='373450', Fare=8.05, Cabin=None, Embarked='S')]"
            ]
          },
          "metadata": {},
          "execution_count": 17
        }
      ]
    },
    {
      "cell_type": "code",
      "source": [
        "# Insight 1: Count of survivors by gender\n",
        "survivor_gender_count = titanic_df.groupBy(\"Sex\").agg(count(when(col(\"Survived\") == 1, True)).alias(\"Survived_Count\"))\n",
        "survivor_gender_count.show()"
      ],
      "metadata": {
        "colab": {
          "base_uri": "https://localhost:8080/"
        },
        "id": "4pXpeUEMOzNG",
        "outputId": "2f33f33b-bb95-4db9-f3dc-7aec47111195"
      },
      "execution_count": 19,
      "outputs": [
        {
          "output_type": "stream",
          "name": "stdout",
          "text": [
            "+------+--------------+\n",
            "|   Sex|Survived_Count|\n",
            "+------+--------------+\n",
            "|female|           233|\n",
            "|  male|           109|\n",
            "+------+--------------+\n",
            "\n"
          ]
        }
      ]
    },
    {
      "cell_type": "code",
      "source": [
        "# Insight 2: Average age of survivors vs non-survivors\n",
        "average_age = titanic_df.groupBy(\"Survived\").agg(avg(\"Age\").alias(\"Average_Age\"))\n",
        "average_age.show()"
      ],
      "metadata": {
        "colab": {
          "base_uri": "https://localhost:8080/"
        },
        "id": "8S-FBStgPGYW",
        "outputId": "e1e48036-6a8f-4832-c210-75698e58ad41"
      },
      "execution_count": 21,
      "outputs": [
        {
          "output_type": "stream",
          "name": "stdout",
          "text": [
            "+--------+------------------+\n",
            "|Survived|       Average_Age|\n",
            "+--------+------------------+\n",
            "|       1|28.343689655172415|\n",
            "|       0| 30.62617924528302|\n",
            "+--------+------------------+\n",
            "\n"
          ]
        }
      ]
    },
    {
      "cell_type": "code",
      "source": [
        "# Insight 3: Count of survivors by passenger class\n",
        "survivor_class_count = titanic_df.groupBy(\"Pclass\").agg(count(when(col(\"Survived\") == 1, True)).alias(\"Survived_Count\"))\n",
        "survivor_class_count.show()"
      ],
      "metadata": {
        "colab": {
          "base_uri": "https://localhost:8080/"
        },
        "id": "8DAhghsOPK3R",
        "outputId": "deae9864-da98-4b92-c7f9-4e688353618e"
      },
      "execution_count": 23,
      "outputs": [
        {
          "output_type": "stream",
          "name": "stdout",
          "text": [
            "+------+--------------+\n",
            "|Pclass|Survived_Count|\n",
            "+------+--------------+\n",
            "|     1|           136|\n",
            "|     3|           119|\n",
            "|     2|            87|\n",
            "+------+--------------+\n",
            "\n"
          ]
        }
      ]
    },
    {
      "cell_type": "code",
      "source": [
        "# Insight 4: Survival rate based on fare paid\n",
        "fare_survival_rate = titanic_df.groupBy(\"Fare\").agg(avg(\"Survived\").alias(\"Survival_Rate\"))\n",
        "fare_survival_rate.show()"
      ],
      "metadata": {
        "colab": {
          "base_uri": "https://localhost:8080/"
        },
        "id": "w-2wQVYGPPCT",
        "outputId": "b1902859-25a1-4c35-a987-0fc6940bf121"
      },
      "execution_count": 25,
      "outputs": [
        {
          "output_type": "stream",
          "name": "stdout",
          "text": [
            "+-------+-------------------+\n",
            "|   Fare|      Survival_Rate|\n",
            "+-------+-------------------+\n",
            "| 8.5167|                1.0|\n",
            "|   15.5|              0.375|\n",
            "| 133.65|                1.0|\n",
            "| 29.125|                0.0|\n",
            "|10.4625|                0.0|\n",
            "| 7.0458|                0.0|\n",
            "|  9.475|                0.0|\n",
            "|11.1333|                1.0|\n",
            "|    0.0|0.06666666666666667|\n",
            "| 7.7333|                0.5|\n",
            "|   73.5|                0.0|\n",
            "|77.2875|                0.0|\n",
            "|   15.9|                1.0|\n",
            "|   11.5|                0.0|\n",
            "| 8.6833|                1.0|\n",
            "|41.5792| 0.6666666666666666|\n",
            "|    9.5| 0.2222222222222222|\n",
            "| 8.4042|                0.0|\n",
            "|14.4542|0.14285714285714285|\n",
            "|14.4583|                0.0|\n",
            "+-------+-------------------+\n",
            "only showing top 20 rows\n",
            "\n"
          ]
        }
      ]
    },
    {
      "cell_type": "code",
      "source": [
        "# Stop the Spark session\n",
        "spark.stop()"
      ],
      "metadata": {
        "id": "yzimikITPT48"
      },
      "execution_count": 26,
      "outputs": []
    }
  ]
}